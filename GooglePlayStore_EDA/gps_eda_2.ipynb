{
 "cells": [
  {
   "cell_type": "markdown",
   "metadata": {},
   "source": [
    "# Kaggle's Google PlayStore Data EDA"
   ]
  },
  {
   "cell_type": "code",
   "execution_count": 1,
   "metadata": {},
   "outputs": [],
   "source": [
    "# Importing Libraries\n",
    "import pandas as pd \n",
    "import numpy as np \n",
    "import matplotlib.pyplot as plt \n",
    "import seaborn as sns"
   ]
  },
  {
   "cell_type": "code",
   "execution_count": 2,
   "metadata": {},
   "outputs": [
    {
     "data": {
      "text/html": [
       "<div>\n",
       "<style scoped>\n",
       "    .dataframe tbody tr th:only-of-type {\n",
       "        vertical-align: middle;\n",
       "    }\n",
       "\n",
       "    .dataframe tbody tr th {\n",
       "        vertical-align: top;\n",
       "    }\n",
       "\n",
       "    .dataframe thead th {\n",
       "        text-align: right;\n",
       "    }\n",
       "</style>\n",
       "<table border=\"1\" class=\"dataframe\">\n",
       "  <thead>\n",
       "    <tr style=\"text-align: right;\">\n",
       "      <th></th>\n",
       "      <th>App</th>\n",
       "      <th>Category</th>\n",
       "      <th>Rating</th>\n",
       "      <th>Reviews</th>\n",
       "      <th>Size</th>\n",
       "      <th>Installs</th>\n",
       "      <th>Type</th>\n",
       "      <th>Price</th>\n",
       "      <th>Content Rating</th>\n",
       "      <th>Genres</th>\n",
       "      <th>Last Updated</th>\n",
       "      <th>Current Ver</th>\n",
       "      <th>Android Ver</th>\n",
       "    </tr>\n",
       "  </thead>\n",
       "  <tbody>\n",
       "    <tr>\n",
       "      <th>0</th>\n",
       "      <td>Photo Editor &amp; Candy Camera &amp; Grid &amp; ScrapBook</td>\n",
       "      <td>ART_AND_DESIGN</td>\n",
       "      <td>4.1</td>\n",
       "      <td>159</td>\n",
       "      <td>19M</td>\n",
       "      <td>10,000+</td>\n",
       "      <td>Free</td>\n",
       "      <td>0</td>\n",
       "      <td>Everyone</td>\n",
       "      <td>Art &amp; Design</td>\n",
       "      <td>January 7, 2018</td>\n",
       "      <td>1.0.0</td>\n",
       "      <td>4.0.3 and up</td>\n",
       "    </tr>\n",
       "    <tr>\n",
       "      <th>1</th>\n",
       "      <td>Coloring book moana</td>\n",
       "      <td>ART_AND_DESIGN</td>\n",
       "      <td>3.9</td>\n",
       "      <td>967</td>\n",
       "      <td>14M</td>\n",
       "      <td>500,000+</td>\n",
       "      <td>Free</td>\n",
       "      <td>0</td>\n",
       "      <td>Everyone</td>\n",
       "      <td>Art &amp; Design;Pretend Play</td>\n",
       "      <td>January 15, 2018</td>\n",
       "      <td>2.0.0</td>\n",
       "      <td>4.0.3 and up</td>\n",
       "    </tr>\n",
       "    <tr>\n",
       "      <th>2</th>\n",
       "      <td>U Launcher Lite – FREE Live Cool Themes, Hide ...</td>\n",
       "      <td>ART_AND_DESIGN</td>\n",
       "      <td>4.7</td>\n",
       "      <td>87510</td>\n",
       "      <td>8.7M</td>\n",
       "      <td>5,000,000+</td>\n",
       "      <td>Free</td>\n",
       "      <td>0</td>\n",
       "      <td>Everyone</td>\n",
       "      <td>Art &amp; Design</td>\n",
       "      <td>August 1, 2018</td>\n",
       "      <td>1.2.4</td>\n",
       "      <td>4.0.3 and up</td>\n",
       "    </tr>\n",
       "    <tr>\n",
       "      <th>3</th>\n",
       "      <td>Sketch - Draw &amp; Paint</td>\n",
       "      <td>ART_AND_DESIGN</td>\n",
       "      <td>4.5</td>\n",
       "      <td>215644</td>\n",
       "      <td>25M</td>\n",
       "      <td>50,000,000+</td>\n",
       "      <td>Free</td>\n",
       "      <td>0</td>\n",
       "      <td>Teen</td>\n",
       "      <td>Art &amp; Design</td>\n",
       "      <td>June 8, 2018</td>\n",
       "      <td>Varies with device</td>\n",
       "      <td>4.2 and up</td>\n",
       "    </tr>\n",
       "    <tr>\n",
       "      <th>4</th>\n",
       "      <td>Pixel Draw - Number Art Coloring Book</td>\n",
       "      <td>ART_AND_DESIGN</td>\n",
       "      <td>4.3</td>\n",
       "      <td>967</td>\n",
       "      <td>2.8M</td>\n",
       "      <td>100,000+</td>\n",
       "      <td>Free</td>\n",
       "      <td>0</td>\n",
       "      <td>Everyone</td>\n",
       "      <td>Art &amp; Design;Creativity</td>\n",
       "      <td>June 20, 2018</td>\n",
       "      <td>1.1</td>\n",
       "      <td>4.4 and up</td>\n",
       "    </tr>\n",
       "  </tbody>\n",
       "</table>\n",
       "</div>"
      ],
      "text/plain": [
       "                                                 App        Category  Rating  \\\n",
       "0     Photo Editor & Candy Camera & Grid & ScrapBook  ART_AND_DESIGN     4.1   \n",
       "1                                Coloring book moana  ART_AND_DESIGN     3.9   \n",
       "2  U Launcher Lite – FREE Live Cool Themes, Hide ...  ART_AND_DESIGN     4.7   \n",
       "3                              Sketch - Draw & Paint  ART_AND_DESIGN     4.5   \n",
       "4              Pixel Draw - Number Art Coloring Book  ART_AND_DESIGN     4.3   \n",
       "\n",
       "   Reviews  Size     Installs  Type Price Content Rating  \\\n",
       "0      159   19M      10,000+  Free     0       Everyone   \n",
       "1      967   14M     500,000+  Free     0       Everyone   \n",
       "2    87510  8.7M   5,000,000+  Free     0       Everyone   \n",
       "3   215644   25M  50,000,000+  Free     0           Teen   \n",
       "4      967  2.8M     100,000+  Free     0       Everyone   \n",
       "\n",
       "                      Genres      Last Updated         Current Ver  \\\n",
       "0               Art & Design   January 7, 2018               1.0.0   \n",
       "1  Art & Design;Pretend Play  January 15, 2018               2.0.0   \n",
       "2               Art & Design    August 1, 2018               1.2.4   \n",
       "3               Art & Design      June 8, 2018  Varies with device   \n",
       "4    Art & Design;Creativity     June 20, 2018                 1.1   \n",
       "\n",
       "    Android Ver  \n",
       "0  4.0.3 and up  \n",
       "1  4.0.3 and up  \n",
       "2  4.0.3 and up  \n",
       "3    4.2 and up  \n",
       "4    4.4 and up  "
      ]
     },
     "execution_count": 2,
     "metadata": {},
     "output_type": "execute_result"
    }
   ],
   "source": [
    "# Read the CSV File\n",
    "df = pd.read_csv('googleplaystore.csv')\n",
    "df.head()"
   ]
  },
  {
   "cell_type": "code",
   "execution_count": 3,
   "metadata": {},
   "outputs": [
    {
     "data": {
      "text/plain": [
       "Index(['App', 'Category', 'Rating', 'Reviews', 'Size', 'Installs', 'Type',\n",
       "       'Price', 'Content Rating', 'Genres', 'Last Updated', 'Current Ver',\n",
       "       'Android Ver'],\n",
       "      dtype='object')"
      ]
     },
     "execution_count": 3,
     "metadata": {},
     "output_type": "execute_result"
    }
   ],
   "source": [
    "df.columns"
   ]
  },
  {
   "cell_type": "markdown",
   "metadata": {},
   "source": [
    "## Convert the Size column such that it has same Units (MB)"
   ]
  },
  {
   "cell_type": "markdown",
   "metadata": {},
   "source": [
    "---\n",
    "### Observations:\n",
    "1. One of the values in the Size column is \"*Varies with device*\". We will replace it with NaN.\n",
    "2. The Size column has values in *KB* and *MB*. We will convert all the values to MB.\n",
    "---"
   ]
  },
  {
   "cell_type": "code",
   "execution_count": 4,
   "metadata": {},
   "outputs": [
    {
     "data": {
      "text/plain": [
       "array(['19M', '14M', '8.7M', '25M', '2.8M', '5.6M', '29M', '33M', '3.1M',\n",
       "       '28M', '12M', '20M', '21M', '37M', '2.7M', '5.5M', '17M', '39M',\n",
       "       '31M', '4.2M', '7.0M', '23M', '6.0M', '6.1M', '4.6M', '9.2M',\n",
       "       '5.2M', '11M', '24M', 'Varies with device', '9.4M', '15M', '10M',\n",
       "       '1.2M', '26M', '8.0M', '7.9M', '56M', '57M', '35M', '54M', '201k',\n",
       "       '3.6M', '5.7M', '8.6M', '2.4M', '27M', '2.5M', '16M', '3.4M',\n",
       "       '8.9M', '3.9M', '2.9M', '38M', '32M', '5.4M', '18M', '1.1M',\n",
       "       '2.2M', '4.5M', '9.8M', '52M', '9.0M', '6.7M', '30M', '2.6M',\n",
       "       '7.1M', '3.7M', '22M', '7.4M', '6.4M', '3.2M', '8.2M', '9.9M',\n",
       "       '4.9M', '9.5M', '5.0M', '5.9M', '13M', '73M', '6.8M', '3.5M',\n",
       "       '4.0M', '2.3M', '7.2M', '2.1M', '42M', '7.3M', '9.1M', '55M',\n",
       "       '23k', '6.5M', '1.5M', '7.5M', '51M', '41M', '48M', '8.5M', '46M',\n",
       "       '8.3M', '4.3M', '4.7M', '3.3M', '40M', '7.8M', '8.8M', '6.6M',\n",
       "       '5.1M', '61M', '66M', '79k', '8.4M', '118k', '44M', '695k', '1.6M',\n",
       "       '6.2M', '18k', '53M', '1.4M', '3.0M', '5.8M', '3.8M', '9.6M',\n",
       "       '45M', '63M', '49M', '77M', '4.4M', '4.8M', '70M', '6.9M', '9.3M',\n",
       "       '10.0M', '8.1M', '36M', '84M', '97M', '2.0M', '1.9M', '1.8M',\n",
       "       '5.3M', '47M', '556k', '526k', '76M', '7.6M', '59M', '9.7M', '78M',\n",
       "       '72M', '43M', '7.7M', '6.3M', '334k', '34M', '93M', '65M', '79M',\n",
       "       '100M', '58M', '50M', '68M', '64M', '67M', '60M', '94M', '232k',\n",
       "       '99M', '624k', '95M', '8.5k', '41k', '292k', '11k', '80M', '1.7M',\n",
       "       '74M', '62M', '69M', '75M', '98M', '85M', '82M', '96M', '87M',\n",
       "       '71M', '86M', '91M', '81M', '92M', '83M', '88M', '704k', '862k',\n",
       "       '899k', '378k', '266k', '375k', '1.3M', '975k', '980k', '4.1M',\n",
       "       '89M', '696k', '544k', '525k', '920k', '779k', '853k', '720k',\n",
       "       '713k', '772k', '318k', '58k', '241k', '196k', '857k', '51k',\n",
       "       '953k', '865k', '251k', '930k', '540k', '313k', '746k', '203k',\n",
       "       '26k', '314k', '239k', '371k', '220k', '730k', '756k', '91k',\n",
       "       '293k', '17k', '74k', '14k', '317k', '78k', '924k', '902k', '818k',\n",
       "       '81k', '939k', '169k', '45k', '475k', '965k', '90M', '545k', '61k',\n",
       "       '283k', '655k', '714k', '93k', '872k', '121k', '322k', '1.0M',\n",
       "       '976k', '172k', '238k', '549k', '206k', '954k', '444k', '717k',\n",
       "       '210k', '609k', '308k', '705k', '306k', '904k', '473k', '175k',\n",
       "       '350k', '383k', '454k', '421k', '70k', '812k', '442k', '842k',\n",
       "       '417k', '412k', '459k', '478k', '335k', '782k', '721k', '430k',\n",
       "       '429k', '192k', '200k', '460k', '728k', '496k', '816k', '414k',\n",
       "       '506k', '887k', '613k', '243k', '569k', '778k', '683k', '592k',\n",
       "       '319k', '186k', '840k', '647k', '191k', '373k', '437k', '598k',\n",
       "       '716k', '585k', '982k', '222k', '219k', '55k', '948k', '323k',\n",
       "       '691k', '511k', '951k', '963k', '25k', '554k', '351k', '27k',\n",
       "       '82k', '208k', '913k', '514k', '551k', '29k', '103k', '898k',\n",
       "       '743k', '116k', '153k', '209k', '353k', '499k', '173k', '597k',\n",
       "       '809k', '122k', '411k', '400k', '801k', '787k', '237k', '50k',\n",
       "       '643k', '986k', '97k', '516k', '837k', '780k', '961k', '269k',\n",
       "       '20k', '498k', '600k', '749k', '642k', '881k', '72k', '656k',\n",
       "       '601k', '221k', '228k', '108k', '940k', '176k', '33k', '663k',\n",
       "       '34k', '942k', '259k', '164k', '458k', '245k', '629k', '28k',\n",
       "       '288k', '775k', '785k', '636k', '916k', '994k', '309k', '485k',\n",
       "       '914k', '903k', '608k', '500k', '54k', '562k', '847k', '957k',\n",
       "       '688k', '811k', '270k', '48k', '329k', '523k', '921k', '874k',\n",
       "       '981k', '784k', '280k', '24k', '518k', '754k', '892k', '154k',\n",
       "       '860k', '364k', '387k', '626k', '161k', '879k', '39k', '970k',\n",
       "       '170k', '141k', '160k', '144k', '143k', '190k', '376k', '193k',\n",
       "       '246k', '73k', '658k', '992k', '253k', '420k', '404k', '470k',\n",
       "       '226k', '240k', '89k', '234k', '257k', '861k', '467k', '157k',\n",
       "       '44k', '676k', '67k', '552k', '885k', '1020k', '582k', '619k'],\n",
       "      dtype=object)"
      ]
     },
     "execution_count": 4,
     "metadata": {},
     "output_type": "execute_result"
    }
   ],
   "source": [
    "df['Size'].unique()"
   ]
  },
  {
   "cell_type": "code",
   "execution_count": 5,
   "metadata": {},
   "outputs": [
    {
     "data": {
      "text/plain": [
       "0"
      ]
     },
     "execution_count": 5,
     "metadata": {},
     "output_type": "execute_result"
    }
   ],
   "source": [
    "# First of all, check the missing values in Size column\n",
    "df['Size'].isnull().sum()"
   ]
  },
  {
   "cell_type": "markdown",
   "metadata": {},
   "source": [
    "- There are no missin values in the `Size` column."
   ]
  },
  {
   "cell_type": "code",
   "execution_count": 6,
   "metadata": {},
   "outputs": [
    {
     "data": {
      "text/plain": [
       "8829"
      ]
     },
     "execution_count": 6,
     "metadata": {},
     "output_type": "execute_result"
    }
   ],
   "source": [
    "# Calculate the values that contains 'M' in them in Size column\n",
    "df['Size'].str.contains('M').sum()"
   ]
  },
  {
   "cell_type": "code",
   "execution_count": 7,
   "metadata": {},
   "outputs": [
    {
     "data": {
      "text/plain": [
       "316"
      ]
     },
     "execution_count": 7,
     "metadata": {},
     "output_type": "execute_result"
    }
   ],
   "source": [
    "# Calculate the values that contains 'k' in them in Size column\n",
    "df['Size'].str.contains('k').sum()"
   ]
  },
  {
   "cell_type": "code",
   "execution_count": 8,
   "metadata": {},
   "outputs": [
    {
     "data": {
      "text/plain": [
       "1695"
      ]
     },
     "execution_count": 8,
     "metadata": {},
     "output_type": "execute_result"
    }
   ],
   "source": [
    "# Calculate the values that contains 'Varies with device' in them in Size column\n",
    "df['Size'].str.contains('Varies with device').sum()"
   ]
  },
  {
   "cell_type": "code",
   "execution_count": 9,
   "metadata": {},
   "outputs": [],
   "source": [
    "# Convert the Size Column into MB First.\n",
    "def convert_size(entry):\n",
    "    if isinstance(entry, str):\n",
    "        if 'k' in entry:\n",
    "            return float(entry.replace('k', '')) / 1024\n",
    "        elif 'M' in entry:\n",
    "            return float(entry.replace('M', '')) \n",
    "        elif 'Varies with device' in entry:\n",
    "            return np.nan\n",
    "    return entry\n",
    "\n",
    "        "
   ]
  },
  {
   "cell_type": "code",
   "execution_count": 10,
   "metadata": {},
   "outputs": [
    {
     "data": {
      "text/plain": [
       "6385     17M\n",
       "4489     21M\n",
       "1276    8.8M\n",
       "3083     25M\n",
       "1975     63M\n",
       "5236    5.3M\n",
       "565     6.1M\n",
       "1093     22M\n",
       "Name: Size, dtype: object"
      ]
     },
     "execution_count": 10,
     "metadata": {},
     "output_type": "execute_result"
    }
   ],
   "source": [
    "df['Size'].sample(8)"
   ]
  },
  {
   "cell_type": "code",
   "execution_count": 11,
   "metadata": {},
   "outputs": [
    {
     "data": {
      "text/plain": [
       "2026    24.0\n",
       "9013    13.0\n",
       "1365    55.0\n",
       "4253     2.6\n",
       "926      NaN\n",
       "6990    47.0\n",
       "6329    23.0\n",
       "524      7.2\n",
       "Name: Size_MB, dtype: float64"
      ]
     },
     "execution_count": 11,
     "metadata": {},
     "output_type": "execute_result"
    }
   ],
   "source": [
    "# Apply the function to the Size Column and update it.\n",
    "df['Size_MB'] = df['Size'].apply(convert_size)\n",
    "df['Size_MB'].sample(8)"
   ]
  },
  {
   "cell_type": "code",
   "execution_count": 12,
   "metadata": {},
   "outputs": [
    {
     "data": {
      "text/html": [
       "<div>\n",
       "<style scoped>\n",
       "    .dataframe tbody tr th:only-of-type {\n",
       "        vertical-align: middle;\n",
       "    }\n",
       "\n",
       "    .dataframe tbody tr th {\n",
       "        vertical-align: top;\n",
       "    }\n",
       "\n",
       "    .dataframe thead th {\n",
       "        text-align: right;\n",
       "    }\n",
       "</style>\n",
       "<table border=\"1\" class=\"dataframe\">\n",
       "  <thead>\n",
       "    <tr style=\"text-align: right;\">\n",
       "      <th></th>\n",
       "      <th>App</th>\n",
       "      <th>Category</th>\n",
       "      <th>Rating</th>\n",
       "      <th>Reviews</th>\n",
       "      <th>Size</th>\n",
       "      <th>Installs</th>\n",
       "      <th>Type</th>\n",
       "      <th>Price</th>\n",
       "      <th>Content Rating</th>\n",
       "      <th>Genres</th>\n",
       "      <th>Last Updated</th>\n",
       "      <th>Current Ver</th>\n",
       "      <th>Android Ver</th>\n",
       "      <th>Size_MB</th>\n",
       "    </tr>\n",
       "  </thead>\n",
       "  <tbody>\n",
       "    <tr>\n",
       "      <th>0</th>\n",
       "      <td>Photo Editor &amp; Candy Camera &amp; Grid &amp; ScrapBook</td>\n",
       "      <td>ART_AND_DESIGN</td>\n",
       "      <td>4.1</td>\n",
       "      <td>159</td>\n",
       "      <td>19M</td>\n",
       "      <td>10,000+</td>\n",
       "      <td>Free</td>\n",
       "      <td>0</td>\n",
       "      <td>Everyone</td>\n",
       "      <td>Art &amp; Design</td>\n",
       "      <td>January 7, 2018</td>\n",
       "      <td>1.0.0</td>\n",
       "      <td>4.0.3 and up</td>\n",
       "      <td>19.0</td>\n",
       "    </tr>\n",
       "    <tr>\n",
       "      <th>1</th>\n",
       "      <td>Coloring book moana</td>\n",
       "      <td>ART_AND_DESIGN</td>\n",
       "      <td>3.9</td>\n",
       "      <td>967</td>\n",
       "      <td>14M</td>\n",
       "      <td>500,000+</td>\n",
       "      <td>Free</td>\n",
       "      <td>0</td>\n",
       "      <td>Everyone</td>\n",
       "      <td>Art &amp; Design;Pretend Play</td>\n",
       "      <td>January 15, 2018</td>\n",
       "      <td>2.0.0</td>\n",
       "      <td>4.0.3 and up</td>\n",
       "      <td>14.0</td>\n",
       "    </tr>\n",
       "    <tr>\n",
       "      <th>2</th>\n",
       "      <td>U Launcher Lite – FREE Live Cool Themes, Hide ...</td>\n",
       "      <td>ART_AND_DESIGN</td>\n",
       "      <td>4.7</td>\n",
       "      <td>87510</td>\n",
       "      <td>8.7M</td>\n",
       "      <td>5,000,000+</td>\n",
       "      <td>Free</td>\n",
       "      <td>0</td>\n",
       "      <td>Everyone</td>\n",
       "      <td>Art &amp; Design</td>\n",
       "      <td>August 1, 2018</td>\n",
       "      <td>1.2.4</td>\n",
       "      <td>4.0.3 and up</td>\n",
       "      <td>8.7</td>\n",
       "    </tr>\n",
       "    <tr>\n",
       "      <th>3</th>\n",
       "      <td>Sketch - Draw &amp; Paint</td>\n",
       "      <td>ART_AND_DESIGN</td>\n",
       "      <td>4.5</td>\n",
       "      <td>215644</td>\n",
       "      <td>25M</td>\n",
       "      <td>50,000,000+</td>\n",
       "      <td>Free</td>\n",
       "      <td>0</td>\n",
       "      <td>Teen</td>\n",
       "      <td>Art &amp; Design</td>\n",
       "      <td>June 8, 2018</td>\n",
       "      <td>Varies with device</td>\n",
       "      <td>4.2 and up</td>\n",
       "      <td>25.0</td>\n",
       "    </tr>\n",
       "    <tr>\n",
       "      <th>4</th>\n",
       "      <td>Pixel Draw - Number Art Coloring Book</td>\n",
       "      <td>ART_AND_DESIGN</td>\n",
       "      <td>4.3</td>\n",
       "      <td>967</td>\n",
       "      <td>2.8M</td>\n",
       "      <td>100,000+</td>\n",
       "      <td>Free</td>\n",
       "      <td>0</td>\n",
       "      <td>Everyone</td>\n",
       "      <td>Art &amp; Design;Creativity</td>\n",
       "      <td>June 20, 2018</td>\n",
       "      <td>1.1</td>\n",
       "      <td>4.4 and up</td>\n",
       "      <td>2.8</td>\n",
       "    </tr>\n",
       "  </tbody>\n",
       "</table>\n",
       "</div>"
      ],
      "text/plain": [
       "                                                 App        Category  Rating  \\\n",
       "0     Photo Editor & Candy Camera & Grid & ScrapBook  ART_AND_DESIGN     4.1   \n",
       "1                                Coloring book moana  ART_AND_DESIGN     3.9   \n",
       "2  U Launcher Lite – FREE Live Cool Themes, Hide ...  ART_AND_DESIGN     4.7   \n",
       "3                              Sketch - Draw & Paint  ART_AND_DESIGN     4.5   \n",
       "4              Pixel Draw - Number Art Coloring Book  ART_AND_DESIGN     4.3   \n",
       "\n",
       "   Reviews  Size     Installs  Type Price Content Rating  \\\n",
       "0      159   19M      10,000+  Free     0       Everyone   \n",
       "1      967   14M     500,000+  Free     0       Everyone   \n",
       "2    87510  8.7M   5,000,000+  Free     0       Everyone   \n",
       "3   215644   25M  50,000,000+  Free     0           Teen   \n",
       "4      967  2.8M     100,000+  Free     0       Everyone   \n",
       "\n",
       "                      Genres      Last Updated         Current Ver  \\\n",
       "0               Art & Design   January 7, 2018               1.0.0   \n",
       "1  Art & Design;Pretend Play  January 15, 2018               2.0.0   \n",
       "2               Art & Design    August 1, 2018               1.2.4   \n",
       "3               Art & Design      June 8, 2018  Varies with device   \n",
       "4    Art & Design;Creativity     June 20, 2018                 1.1   \n",
       "\n",
       "    Android Ver  Size_MB  \n",
       "0  4.0.3 and up     19.0  \n",
       "1  4.0.3 and up     14.0  \n",
       "2  4.0.3 and up      8.7  \n",
       "3    4.2 and up     25.0  \n",
       "4    4.4 and up      2.8  "
      ]
     },
     "execution_count": 12,
     "metadata": {},
     "output_type": "execute_result"
    }
   ],
   "source": [
    "# Rename the column 'Size' to 'Size in Bytes'\n",
    "df.head()"
   ]
  },
  {
   "cell_type": "markdown",
   "metadata": {},
   "source": [
    "## Convert the Installs column to numeric values"
   ]
  },
  {
   "cell_type": "code",
   "execution_count": 13,
   "metadata": {},
   "outputs": [
    {
     "data": {
      "text/plain": [
       "array(['10,000+', '500,000+', '5,000,000+', '50,000,000+', '100,000+',\n",
       "       '50,000+', '1,000,000+', '10,000,000+', '5,000+', '100,000,000+',\n",
       "       '1,000,000,000+', '1,000+', '500,000,000+', '50+', '100+', '500+',\n",
       "       '10+', '1+', '5+', '0+', '0'], dtype=object)"
      ]
     },
     "execution_count": 13,
     "metadata": {},
     "output_type": "execute_result"
    }
   ],
   "source": [
    "df['Installs'].unique()"
   ]
  },
  {
   "cell_type": "code",
   "execution_count": 14,
   "metadata": {},
   "outputs": [
    {
     "data": {
      "text/plain": [
       "Installs\n",
       "1,000,000+        1579\n",
       "10,000,000+       1252\n",
       "100,000+          1169\n",
       "10,000+           1054\n",
       "1,000+             907\n",
       "5,000,000+         752\n",
       "100+               719\n",
       "500,000+           539\n",
       "50,000+            479\n",
       "5,000+             477\n",
       "100,000,000+       409\n",
       "10+                386\n",
       "500+               330\n",
       "50,000,000+        289\n",
       "50+                205\n",
       "5+                  82\n",
       "500,000,000+        72\n",
       "1+                  67\n",
       "1,000,000,000+      58\n",
       "0+                  14\n",
       "0                    1\n",
       "Name: count, dtype: int64"
      ]
     },
     "execution_count": 14,
     "metadata": {},
     "output_type": "execute_result"
    }
   ],
   "source": [
    "# Check Value Counts.\n",
    "df['Installs'].value_counts()"
   ]
  },
  {
   "cell_type": "code",
   "execution_count": 15,
   "metadata": {},
   "outputs": [
    {
     "data": {
      "text/plain": [
       "0"
      ]
     },
     "execution_count": 15,
     "metadata": {},
     "output_type": "execute_result"
    }
   ],
   "source": [
    "# Check missing values\n",
    "df['Installs'].isnull().sum()"
   ]
  },
  {
   "cell_type": "markdown",
   "metadata": {},
   "source": [
    "### To Dos\n",
    "1. Remove the `+` and `,` from the `Installs` column.\n",
    "2. Convert the `Installs` column to `int` values."
   ]
  },
  {
   "cell_type": "code",
   "execution_count": 16,
   "metadata": {},
   "outputs": [
    {
     "data": {
      "text/plain": [
       "Installs\n",
       "1000000       1579\n",
       "10000000      1252\n",
       "100000        1169\n",
       "10000         1054\n",
       "1000           907\n",
       "5000000        752\n",
       "100            719\n",
       "500000         539\n",
       "50000          479\n",
       "5000           477\n",
       "100000000      409\n",
       "10             386\n",
       "500            330\n",
       "50000000       289\n",
       "50             205\n",
       "5               82\n",
       "500000000       72\n",
       "1               67\n",
       "1000000000      58\n",
       "0               15\n",
       "Name: count, dtype: int64"
      ]
     },
     "execution_count": 16,
     "metadata": {},
     "output_type": "execute_result"
    }
   ],
   "source": [
    "df['Installs'] = df['Installs'].apply(lambda x: x.replace('+', '') if '+' in str(x) else x)\n",
    "df['Installs'] = df['Installs'].apply(lambda x: x.replace(',', '') if ',' in str(x) else x)\n",
    "df['Installs'] = df['Installs'].apply(lambda x: int(x)) \n",
    "df['Installs'].value_counts()"
   ]
  },
  {
   "cell_type": "markdown",
   "metadata": {},
   "source": [
    "### Creating Categories of Install Column based on number of installs."
   ]
  },
  {
   "cell_type": "code",
   "execution_count": 17,
   "metadata": {},
   "outputs": [
    {
     "data": {
      "text/plain": [
       "array([     10000,     500000,    5000000,   50000000,     100000,\n",
       "            50000,    1000000,   10000000,       5000,  100000000,\n",
       "       1000000000,       1000,  500000000,         50,        100,\n",
       "              500,         10,          1,          5,          0],\n",
       "      dtype=int64)"
      ]
     },
     "execution_count": 17,
     "metadata": {},
     "output_type": "execute_result"
    }
   ],
   "source": [
    "df['Installs'].unique()"
   ]
  },
  {
   "cell_type": "code",
   "execution_count": 18,
   "metadata": {},
   "outputs": [
    {
     "name": "stdout",
     "output_type": "stream",
     "text": [
      "Min:  0\n",
      "Max:  1000000000\n"
     ]
    }
   ],
   "source": [
    "print('Min: ', df['Installs'].min())\n",
    "print('Max: ', df['Installs'].max())"
   ]
  },
  {
   "cell_type": "code",
   "execution_count": 19,
   "metadata": {},
   "outputs": [
    {
     "data": {
      "text/plain": [
       "Install_Category\n",
       "10+      2161\n",
       "100K+    2118\n",
       "1M+      2004\n",
       "10K+     1648\n",
       "1K+      1531\n",
       "10M+      828\n",
       "0+        535\n",
       "NA         15\n",
       "Name: count, dtype: int64"
      ]
     },
     "execution_count": 19,
     "metadata": {},
     "output_type": "execute_result"
    }
   ],
   "source": [
    "# Create bin for each range of installs\n",
    "bins = [-1 , 0 , 10 , 1000 , 10000 , 100000 , 1000000 , 10000000 , 1000000000]\n",
    "labels = ['NA' , '0+' , '10+' , '1K+' , '10K+' , '100K+' , '1M+' , '10M+']\n",
    "df['Install_Category'] = pd.cut(df['Installs'] , bins=bins , labels=labels)\n",
    "df['Install_Category'].value_counts()"
   ]
  },
  {
   "cell_type": "markdown",
   "metadata": {},
   "source": [
    "## Convert the Price column to numeric values"
   ]
  },
  {
   "cell_type": "code",
   "execution_count": 20,
   "metadata": {},
   "outputs": [
    {
     "data": {
      "text/plain": [
       "Price\n",
       "0         10040\n",
       "$0.99       148\n",
       "$2.99       129\n",
       "$1.99        73\n",
       "$4.99        72\n",
       "          ...  \n",
       "$19.90        1\n",
       "$1.75         1\n",
       "$14.00        1\n",
       "$4.85         1\n",
       "$1.04         1\n",
       "Name: count, Length: 92, dtype: int64"
      ]
     },
     "execution_count": 20,
     "metadata": {},
     "output_type": "execute_result"
    }
   ],
   "source": [
    "df['Price'].value_counts()"
   ]
  },
  {
   "cell_type": "markdown",
   "metadata": {},
   "source": [
    "### To Dos\n",
    "1. Remove `$` from the `Price` column."
   ]
  },
  {
   "cell_type": "code",
   "execution_count": 21,
   "metadata": {},
   "outputs": [
    {
     "data": {
      "text/plain": [
       "10840"
      ]
     },
     "execution_count": 21,
     "metadata": {},
     "output_type": "execute_result"
    }
   ],
   "source": [
    "# First see, how many entries contains $ sign\n",
    "df['Price'].str.contains('$').sum()"
   ]
  },
  {
   "cell_type": "code",
   "execution_count": 22,
   "metadata": {},
   "outputs": [
    {
     "data": {
      "text/plain": [
       "array(['0', '$4.99', '$3.99', '$6.99', '$1.49', '$2.99', '$7.99', '$5.99',\n",
       "       '$3.49', '$1.99', '$9.99', '$7.49', '$0.99', '$9.00', '$5.49',\n",
       "       '$10.00', '$24.99', '$11.99', '$79.99', '$16.99', '$14.99',\n",
       "       '$1.00', '$29.99', '$12.99', '$2.49', '$10.99', '$1.50', '$19.99',\n",
       "       '$15.99', '$33.99', '$74.99', '$39.99', '$3.95', '$4.49', '$1.70',\n",
       "       '$8.99', '$2.00', '$3.88', '$25.99', '$399.99', '$17.99',\n",
       "       '$400.00', '$3.02', '$1.76', '$4.84', '$4.77', '$1.61', '$2.50',\n",
       "       '$1.59', '$6.49', '$1.29', '$5.00', '$13.99', '$299.99', '$379.99',\n",
       "       '$37.99', '$18.99', '$389.99', '$19.90', '$8.49', '$1.75',\n",
       "       '$14.00', '$4.85', '$46.99', '$109.99', '$154.99', '$3.08',\n",
       "       '$2.59', '$4.80', '$1.96', '$19.40', '$3.90', '$4.59', '$15.46',\n",
       "       '$3.04', '$4.29', '$2.60', '$3.28', '$4.60', '$28.99', '$2.95',\n",
       "       '$2.90', '$1.97', '$200.00', '$89.99', '$2.56', '$30.99', '$3.61',\n",
       "       '$394.99', '$1.26', '$1.20', '$1.04'], dtype=object)"
      ]
     },
     "execution_count": 22,
     "metadata": {},
     "output_type": "execute_result"
    }
   ],
   "source": [
    "df['Price'].unique()"
   ]
  },
  {
   "cell_type": "code",
   "execution_count": 23,
   "metadata": {},
   "outputs": [
    {
     "data": {
      "text/plain": [
       "Price\n",
       "0.00     10040\n",
       "0.99       148\n",
       "2.99       129\n",
       "1.99        73\n",
       "4.99        72\n",
       "         ...  \n",
       "19.90        1\n",
       "1.75         1\n",
       "14.00        1\n",
       "4.85         1\n",
       "1.04         1\n",
       "Name: count, Length: 92, dtype: int64"
      ]
     },
     "execution_count": 23,
     "metadata": {},
     "output_type": "execute_result"
    }
   ],
   "source": [
    "# Removing $ sign from the Price Column\n",
    "df['Price'] = df['Price'].apply(lambda x: x.replace('$', '') if '$' in str(x) else x)\n",
    "df['Price'] = df['Price'].astype(float)\n",
    "df['Price'].value_counts()"
   ]
  },
  {
   "cell_type": "code",
   "execution_count": 24,
   "metadata": {},
   "outputs": [
    {
     "data": {
      "text/plain": [
       "10840"
      ]
     },
     "execution_count": 24,
     "metadata": {},
     "output_type": "execute_result"
    }
   ],
   "source": [
    "df['Price'].value_counts().sum()"
   ]
  },
  {
   "cell_type": "markdown",
   "metadata": {},
   "source": [
    "### Minimum, Maximum and Average values of `PRICE`"
   ]
  },
  {
   "cell_type": "code",
   "execution_count": 25,
   "metadata": {},
   "outputs": [
    {
     "name": "stdout",
     "output_type": "stream",
     "text": [
      "Min:  0.0\n",
      "Max:  400.0\n",
      "Mean:  1.027368081180812\n"
     ]
    }
   ],
   "source": [
    "# print the min, max, and average value of price\n",
    "print('Min: ', df['Price'].min())\n",
    "print('Max: ', df['Price'].max())\n",
    "print('Mean: ', df['Price'].mean())"
   ]
  },
  {
   "cell_type": "markdown",
   "metadata": {},
   "source": [
    "Now, `Price`, `Size`, `Installs` and `Reviews` columns has numeric values."
   ]
  },
  {
   "cell_type": "markdown",
   "metadata": {},
   "source": [
    "## Missing values in the DataFrame"
   ]
  },
  {
   "cell_type": "code",
   "execution_count": 26,
   "metadata": {},
   "outputs": [
    {
     "data": {
      "text/plain": [
       "Size_MB             1695\n",
       "Rating              1474\n",
       "Current Ver            8\n",
       "Android Ver            2\n",
       "Type                   1\n",
       "App                    0\n",
       "Category               0\n",
       "Reviews                0\n",
       "Size                   0\n",
       "Installs               0\n",
       "Price                  0\n",
       "Content Rating         0\n",
       "Genres                 0\n",
       "Last Updated           0\n",
       "Install_Category       0\n",
       "dtype: int64"
      ]
     },
     "execution_count": 26,
     "metadata": {},
     "output_type": "execute_result"
    }
   ],
   "source": [
    "# find the missing values in dataframe and sort them\n",
    "df.isnull().sum().sort_values(ascending=False)"
   ]
  },
  {
   "cell_type": "code",
   "execution_count": 27,
   "metadata": {},
   "outputs": [
    {
     "data": {
      "text/plain": [
       "Size_MB             15.64\n",
       "Rating              13.60\n",
       "Current Ver          0.07\n",
       "Android Ver          0.02\n",
       "Type                 0.01\n",
       "App                  0.00\n",
       "Category             0.00\n",
       "Reviews              0.00\n",
       "Size                 0.00\n",
       "Installs             0.00\n",
       "Price                0.00\n",
       "Content Rating       0.00\n",
       "Genres               0.00\n",
       "Last Updated         0.00\n",
       "Install_Category     0.00\n",
       "dtype: float64"
      ]
     },
     "execution_count": 27,
     "metadata": {},
     "output_type": "execute_result"
    }
   ],
   "source": [
    "# find the missing values in datagrame and sort them in percentage\n",
    "round(df.isnull().mean().sort_values(ascending=False) * 100 , 2)"
   ]
  },
  {
   "cell_type": "code",
   "execution_count": 28,
   "metadata": {},
   "outputs": [
    {
     "data": {
      "text/plain": [
       "3180"
      ]
     },
     "execution_count": 28,
     "metadata": {},
     "output_type": "execute_result"
    }
   ],
   "source": [
    "# find total missing values in dataframe\n",
    "df.isnull().sum().sum()"
   ]
  },
  {
   "cell_type": "code",
   "execution_count": 29,
   "metadata": {},
   "outputs": [
    {
     "data": {
      "text/plain": [
       "<Axes: >"
      ]
     },
     "execution_count": 29,
     "metadata": {},
     "output_type": "execute_result"
    },
    {
     "data": {
      "image/png": "[encoded data removed]",
      "text/plain": [
       "<Figure size 600x400 with 1 Axes>"
      ]
     },
     "metadata": {},
     "output_type": "display_data"
    }
   ],
   "source": [
    "# Plot Missing Values\n",
    "plt.figure(figsize=(6, 4))\n",
    "# plot heatmap of missing values\n",
    "sns.heatmap(df.isnull(), cbar=False)"
   ]
  },
  {
   "cell_type": "code",
   "execution_count": 30,
   "metadata": {},
   "outputs": [
    {
     "data": {
      "text/plain": [
       "Text(0.5, 1.0, 'Percentage of Missing Data in Each Column')"
      ]
     },
     "execution_count": 30,
     "metadata": {},
     "output_type": "execute_result"
    },
    {
     "data": {
      "image/png": "[encoded data removed]",
      "text/plain": [
       "<Figure size 600x400 with 1 Axes>"
      ]
     },
     "metadata": {},
     "output_type": "display_data"
    }
   ],
   "source": [
    "# Plot Missing Values\n",
    "plt.figure(figsize=(6, 4))\n",
    "percent_missing = df.isnull().sum() * 100 / len(df)\n",
    "# plot missing values percentage\n",
    "percent_missing.plot.bar()\n",
    "plt.xlabel('Columns')\n",
    "plt.ylabel('Percentage of Missing Values')\n",
    "plt.title('Percentage of Missing Data in Each Column')"
   ]
  },
  {
   "cell_type": "code",
   "execution_count": 31,
   "metadata": {},
   "outputs": [
    {
     "data": {
      "text/plain": [
       "<Axes: >"
      ]
     },
     "execution_count": 31,
     "metadata": {},
     "output_type": "execute_result"
    },
    {
     "data": {
      "image/png": "[encoded data removed]",
      "text/plain": [
       "<Figure size 640x480 with 1 Axes>"
      ]
     },
     "metadata": {},
     "output_type": "display_data"
    }
   ],
   "source": [
    "percent_missing[percent_missing < 1].plot.bar()"
   ]
  },
  {
   "cell_type": "markdown",
   "metadata": {},
   "source": [
    "## Descriptive Statistics"
   ]
  },
  {
   "cell_type": "code",
   "execution_count": 32,
   "metadata": {},
   "outputs": [
    {
     "data": {
      "text/html": [
       "<div>\n",
       "<style scoped>\n",
       "    .dataframe tbody tr th:only-of-type {\n",
       "        vertical-align: middle;\n",
       "    }\n",
       "\n",
       "    .dataframe tbody tr th {\n",
       "        vertical-align: top;\n",
       "    }\n",
       "\n",
       "    .dataframe thead th {\n",
       "        text-align: right;\n",
       "    }\n",
       "</style>\n",
       "<table border=\"1\" class=\"dataframe\">\n",
       "  <thead>\n",
       "    <tr style=\"text-align: right;\">\n",
       "      <th></th>\n",
       "      <th>count</th>\n",
       "      <th>mean</th>\n",
       "      <th>std</th>\n",
       "      <th>min</th>\n",
       "      <th>25%</th>\n",
       "      <th>50%</th>\n",
       "      <th>75%</th>\n",
       "      <th>max</th>\n",
       "    </tr>\n",
       "  </thead>\n",
       "  <tbody>\n",
       "    <tr>\n",
       "      <th>Rating</th>\n",
       "      <td>9366.0</td>\n",
       "      <td>4.191757e+00</td>\n",
       "      <td>5.152189e-01</td>\n",
       "      <td>1.000000</td>\n",
       "      <td>4.0</td>\n",
       "      <td>4.3</td>\n",
       "      <td>4.5</td>\n",
       "      <td>5.000000e+00</td>\n",
       "    </tr>\n",
       "    <tr>\n",
       "      <th>Reviews</th>\n",
       "      <td>10840.0</td>\n",
       "      <td>4.441529e+05</td>\n",
       "      <td>2.927761e+06</td>\n",
       "      <td>0.000000</td>\n",
       "      <td>38.0</td>\n",
       "      <td>2094.0</td>\n",
       "      <td>54775.5</td>\n",
       "      <td>7.815831e+07</td>\n",
       "    </tr>\n",
       "    <tr>\n",
       "      <th>Installs</th>\n",
       "      <td>10840.0</td>\n",
       "      <td>1.546434e+07</td>\n",
       "      <td>8.502936e+07</td>\n",
       "      <td>0.000000</td>\n",
       "      <td>1000.0</td>\n",
       "      <td>100000.0</td>\n",
       "      <td>5000000.0</td>\n",
       "      <td>1.000000e+09</td>\n",
       "    </tr>\n",
       "    <tr>\n",
       "      <th>Price</th>\n",
       "      <td>10840.0</td>\n",
       "      <td>1.027368e+00</td>\n",
       "      <td>1.594970e+01</td>\n",
       "      <td>0.000000</td>\n",
       "      <td>0.0</td>\n",
       "      <td>0.0</td>\n",
       "      <td>0.0</td>\n",
       "      <td>4.000000e+02</td>\n",
       "    </tr>\n",
       "    <tr>\n",
       "      <th>Size_MB</th>\n",
       "      <td>9145.0</td>\n",
       "      <td>2.151617e+01</td>\n",
       "      <td>2.258908e+01</td>\n",
       "      <td>0.008301</td>\n",
       "      <td>4.9</td>\n",
       "      <td>13.0</td>\n",
       "      <td>30.0</td>\n",
       "      <td>1.000000e+02</td>\n",
       "    </tr>\n",
       "  </tbody>\n",
       "</table>\n",
       "</div>"
      ],
      "text/plain": [
       "            count          mean           std       min     25%       50%  \\\n",
       "Rating     9366.0  4.191757e+00  5.152189e-01  1.000000     4.0       4.3   \n",
       "Reviews   10840.0  4.441529e+05  2.927761e+06  0.000000    38.0    2094.0   \n",
       "Installs  10840.0  1.546434e+07  8.502936e+07  0.000000  1000.0  100000.0   \n",
       "Price     10840.0  1.027368e+00  1.594970e+01  0.000000     0.0       0.0   \n",
       "Size_MB    9145.0  2.151617e+01  2.258908e+01  0.008301     4.9      13.0   \n",
       "\n",
       "                75%           max  \n",
       "Rating          4.5  5.000000e+00  \n",
       "Reviews     54775.5  7.815831e+07  \n",
       "Installs  5000000.0  1.000000e+09  \n",
       "Price           0.0  4.000000e+02  \n",
       "Size_MB        30.0  1.000000e+02  "
      ]
     },
     "execution_count": 32,
     "metadata": {},
     "output_type": "execute_result"
    }
   ],
   "source": [
    "df.describe().T"
   ]
  },
  {
   "cell_type": "code",
   "execution_count": 33,
   "metadata": {},
   "outputs": [
    {
     "data": {
      "text/plain": [
       "<Axes: >"
      ]
     },
     "execution_count": 33,
     "metadata": {},
     "output_type": "execute_result"
    },
    {
     "data": {
      "image/png": "[encoded data removed]",
      "text/plain": [
       "<Figure size 800x600 with 2 Axes>"
      ]
     },
     "metadata": {},
     "output_type": "display_data"
    }
   ],
   "source": [
    "plt.figure(figsize=(8, 6))\n",
    "numeric_columns = ['Rating' , 'Reviews' , 'Installs' , 'Price' , 'Size_MB']\n",
    "# plot heatmap of correlation matrix\n",
    "sns.heatmap(df[numeric_columns].corr(), annot=True, cmap='Blues')"
   ]
  },
  {
   "cell_type": "markdown",
   "metadata": {},
   "source": [
    "Darker the color, higher the correlation.\\\n",
    "As we can see, `Reviews` and `Installs` columns are highly correlated, which makes sense obviously."
   ]
  },
  {
   "cell_type": "code",
   "execution_count": 34,
   "metadata": {},
   "outputs": [
    {
     "data": {
      "text/html": [
       "<div>\n",
       "<style scoped>\n",
       "    .dataframe tbody tr th:only-of-type {\n",
       "        vertical-align: middle;\n",
       "    }\n",
       "\n",
       "    .dataframe tbody tr th {\n",
       "        vertical-align: top;\n",
       "    }\n",
       "\n",
       "    .dataframe thead th {\n",
       "        text-align: right;\n",
       "    }\n",
       "</style>\n",
       "<table border=\"1\" class=\"dataframe\">\n",
       "  <thead>\n",
       "    <tr style=\"text-align: right;\">\n",
       "      <th></th>\n",
       "      <th>Rating</th>\n",
       "      <th>Reviews</th>\n",
       "      <th>Installs</th>\n",
       "      <th>Price</th>\n",
       "      <th>Size_MB</th>\n",
       "    </tr>\n",
       "  </thead>\n",
       "  <tbody>\n",
       "    <tr>\n",
       "      <th>Rating</th>\n",
       "      <td>1.000000</td>\n",
       "      <td>0.068141</td>\n",
       "      <td>0.051355</td>\n",
       "      <td>-0.021903</td>\n",
       "      <td>0.083737</td>\n",
       "    </tr>\n",
       "    <tr>\n",
       "      <th>Reviews</th>\n",
       "      <td>0.068141</td>\n",
       "      <td>1.000000</td>\n",
       "      <td>0.643122</td>\n",
       "      <td>-0.009667</td>\n",
       "      <td>0.238214</td>\n",
       "    </tr>\n",
       "    <tr>\n",
       "      <th>Installs</th>\n",
       "      <td>0.051355</td>\n",
       "      <td>0.643122</td>\n",
       "      <td>1.000000</td>\n",
       "      <td>-0.011689</td>\n",
       "      <td>0.164787</td>\n",
       "    </tr>\n",
       "    <tr>\n",
       "      <th>Price</th>\n",
       "      <td>-0.021903</td>\n",
       "      <td>-0.009667</td>\n",
       "      <td>-0.011689</td>\n",
       "      <td>1.000000</td>\n",
       "      <td>-0.023007</td>\n",
       "    </tr>\n",
       "    <tr>\n",
       "      <th>Size_MB</th>\n",
       "      <td>0.083737</td>\n",
       "      <td>0.238214</td>\n",
       "      <td>0.164787</td>\n",
       "      <td>-0.023007</td>\n",
       "      <td>1.000000</td>\n",
       "    </tr>\n",
       "  </tbody>\n",
       "</table>\n",
       "</div>"
      ],
      "text/plain": [
       "            Rating   Reviews  Installs     Price   Size_MB\n",
       "Rating    1.000000  0.068141  0.051355 -0.021903  0.083737\n",
       "Reviews   0.068141  1.000000  0.643122 -0.009667  0.238214\n",
       "Installs  0.051355  0.643122  1.000000 -0.011689  0.164787\n",
       "Price    -0.021903 -0.009667 -0.011689  1.000000 -0.023007\n",
       "Size_MB   0.083737  0.238214  0.164787 -0.023007  1.000000"
      ]
     },
     "execution_count": 34,
     "metadata": {},
     "output_type": "execute_result"
    }
   ],
   "source": [
    "# Calculate correlation matrix\n",
    "corr = df[numeric_columns].corr()\n",
    "corr "
   ]
  },
  {
   "cell_type": "code",
   "execution_count": 35,
   "metadata": {},
   "outputs": [
    {
     "name": "stdout",
     "output_type": "stream",
     "text": [
      "Pearson's R between Reviews and Installs: 0.6262\n"
     ]
    }
   ],
   "source": [
    "# we can calculate the pearson correlation coefficient using scipy as well as follows\n",
    "\n",
    "from scipy import stats\n",
    "\n",
    "# remove rows containing NaN or infinite values (Important to calculate Pearson's R)\n",
    "df_clean = df.dropna()\n",
    "\n",
    "# calculate Pearson's R between Rating and Installs\n",
    "pearson_r, _ = stats.pearsonr(df_clean['Reviews'], df_clean['Installs'])\n",
    "print(f\"Pearson's R between Reviews and Installs: {pearson_r:.4f}\")"
   ]
  },
  {
   "cell_type": "code",
   "execution_count": 36,
   "metadata": {},
   "outputs": [
    {
     "data": {
      "text/plain": [
       "App                    0\n",
       "Category               0\n",
       "Rating              1474\n",
       "Reviews                0\n",
       "Size                   0\n",
       "Installs               0\n",
       "Type                   1\n",
       "Price                  0\n",
       "Content Rating         0\n",
       "Genres                 0\n",
       "Last Updated           0\n",
       "Current Ver            8\n",
       "Android Ver            2\n",
       "Size_MB             1695\n",
       "Install_Category       0\n",
       "dtype: int64"
      ]
     },
     "execution_count": 36,
     "metadata": {},
     "output_type": "execute_result"
    }
   ],
   "source": [
    "# See the missing values\n",
    "df.isnull().sum()"
   ]
  },
  {
   "cell_type": "markdown",
   "metadata": {},
   "source": [
    "We see that `Type`, `Current Ver`, `Android Ver` have the least missing values. So it's better to drop such rows."
   ]
  },
  {
   "cell_type": "code",
   "execution_count": 37,
   "metadata": {},
   "outputs": [
    {
     "data": {
      "text/plain": [
       "(10840, 15)"
      ]
     },
     "execution_count": 37,
     "metadata": {},
     "output_type": "execute_result"
    }
   ],
   "source": [
    "# Shape of column BEFORE\n",
    "df.shape "
   ]
  },
  {
   "cell_type": "code",
   "execution_count": 38,
   "metadata": {},
   "outputs": [],
   "source": [
    "# drop the rows containing missing values from `Type`, `Current Ver`, `Android Ver` columns\n",
    "df.dropna(subset=['Type', 'Current Ver', 'Android Ver'] , inplace=True)"
   ]
  },
  {
   "cell_type": "code",
   "execution_count": 39,
   "metadata": {},
   "outputs": [
    {
     "data": {
      "text/plain": [
       "(10829, 15)"
      ]
     },
     "execution_count": 39,
     "metadata": {},
     "output_type": "execute_result"
    }
   ],
   "source": [
    "# Shape of column AFTER\n",
    "df.shape "
   ]
  },
  {
   "cell_type": "markdown",
   "metadata": {},
   "source": [
    "We see that `12` rows have been removed."
   ]
  },
  {
   "cell_type": "code",
   "execution_count": 40,
   "metadata": {},
   "outputs": [
    {
     "data": {
      "text/plain": [
       "Size_MB             1694\n",
       "Rating              1469\n",
       "App                    0\n",
       "Category               0\n",
       "Reviews                0\n",
       "Size                   0\n",
       "Installs               0\n",
       "Type                   0\n",
       "Price                  0\n",
       "Content Rating         0\n",
       "Genres                 0\n",
       "Last Updated           0\n",
       "Current Ver            0\n",
       "Android Ver            0\n",
       "Install_Category       0\n",
       "dtype: int64"
      ]
     },
     "execution_count": 40,
     "metadata": {},
     "output_type": "execute_result"
    }
   ],
   "source": [
    "# Check null values again with sort\n",
    "df.isnull().sum().sort_values(ascending=False)"
   ]
  },
  {
   "cell_type": "markdown",
   "metadata": {},
   "source": [
    "## Checking the Duplicates values"
   ]
  },
  {
   "cell_type": "code",
   "execution_count": 42,
   "metadata": {},
   "outputs": [
    {
     "data": {
      "text/plain": [
       "483"
      ]
     },
     "execution_count": 42,
     "metadata": {},
     "output_type": "execute_result"
    }
   ],
   "source": [
    "# find duplicates in df \n",
    "df.duplicated().sum()\n"
   ]
  },
  {
   "cell_type": "code",
   "execution_count": 45,
   "metadata": {},
   "outputs": [
    {
     "data": {
      "text/plain": [
       "1181"
      ]
     },
     "execution_count": 45,
     "metadata": {},
     "output_type": "execute_result"
    }
   ],
   "source": [
    "# find duplicates based on 'App' column\n",
    "df['App'].duplicated().sum()"
   ]
  },
  {
   "cell_type": "code",
   "execution_count": 46,
   "metadata": {},
   "outputs": [
    {
     "data": {
      "text/html": [
       "<div>\n",
       "<style scoped>\n",
       "    .dataframe tbody tr th:only-of-type {\n",
       "        vertical-align: middle;\n",
       "    }\n",
       "\n",
       "    .dataframe tbody tr th {\n",
       "        vertical-align: top;\n",
       "    }\n",
       "\n",
       "    .dataframe thead th {\n",
       "        text-align: right;\n",
       "    }\n",
       "</style>\n",
       "<table border=\"1\" class=\"dataframe\">\n",
       "  <thead>\n",
       "    <tr style=\"text-align: right;\">\n",
       "      <th></th>\n",
       "      <th>App</th>\n",
       "      <th>Category</th>\n",
       "      <th>Rating</th>\n",
       "      <th>Reviews</th>\n",
       "      <th>Size</th>\n",
       "      <th>Installs</th>\n",
       "      <th>Type</th>\n",
       "      <th>Price</th>\n",
       "      <th>Content Rating</th>\n",
       "      <th>Genres</th>\n",
       "      <th>Last Updated</th>\n",
       "      <th>Current Ver</th>\n",
       "      <th>Android Ver</th>\n",
       "      <th>Size_MB</th>\n",
       "      <th>Install_Category</th>\n",
       "    </tr>\n",
       "  </thead>\n",
       "  <tbody>\n",
       "    <tr>\n",
       "      <th>1393</th>\n",
       "      <td>10 Best Foods for You</td>\n",
       "      <td>HEALTH_AND_FITNESS</td>\n",
       "      <td>4.0</td>\n",
       "      <td>2490</td>\n",
       "      <td>3.8M</td>\n",
       "      <td>500000</td>\n",
       "      <td>Free</td>\n",
       "      <td>0.00</td>\n",
       "      <td>Everyone 10+</td>\n",
       "      <td>Health &amp; Fitness</td>\n",
       "      <td>February 17, 2017</td>\n",
       "      <td>1.9</td>\n",
       "      <td>2.3.3 and up</td>\n",
       "      <td>3.8</td>\n",
       "      <td>100K+</td>\n",
       "    </tr>\n",
       "    <tr>\n",
       "      <th>1407</th>\n",
       "      <td>10 Best Foods for You</td>\n",
       "      <td>HEALTH_AND_FITNESS</td>\n",
       "      <td>4.0</td>\n",
       "      <td>2490</td>\n",
       "      <td>3.8M</td>\n",
       "      <td>500000</td>\n",
       "      <td>Free</td>\n",
       "      <td>0.00</td>\n",
       "      <td>Everyone 10+</td>\n",
       "      <td>Health &amp; Fitness</td>\n",
       "      <td>February 17, 2017</td>\n",
       "      <td>1.9</td>\n",
       "      <td>2.3.3 and up</td>\n",
       "      <td>3.8</td>\n",
       "      <td>100K+</td>\n",
       "    </tr>\n",
       "    <tr>\n",
       "      <th>2543</th>\n",
       "      <td>1800 Contacts - Lens Store</td>\n",
       "      <td>MEDICAL</td>\n",
       "      <td>4.7</td>\n",
       "      <td>23160</td>\n",
       "      <td>26M</td>\n",
       "      <td>1000000</td>\n",
       "      <td>Free</td>\n",
       "      <td>0.00</td>\n",
       "      <td>Everyone</td>\n",
       "      <td>Medical</td>\n",
       "      <td>July 27, 2018</td>\n",
       "      <td>7.4.1</td>\n",
       "      <td>5.0 and up</td>\n",
       "      <td>26.0</td>\n",
       "      <td>100K+</td>\n",
       "    </tr>\n",
       "    <tr>\n",
       "      <th>2322</th>\n",
       "      <td>1800 Contacts - Lens Store</td>\n",
       "      <td>MEDICAL</td>\n",
       "      <td>4.7</td>\n",
       "      <td>23160</td>\n",
       "      <td>26M</td>\n",
       "      <td>1000000</td>\n",
       "      <td>Free</td>\n",
       "      <td>0.00</td>\n",
       "      <td>Everyone</td>\n",
       "      <td>Medical</td>\n",
       "      <td>July 27, 2018</td>\n",
       "      <td>7.4.1</td>\n",
       "      <td>5.0 and up</td>\n",
       "      <td>26.0</td>\n",
       "      <td>100K+</td>\n",
       "    </tr>\n",
       "    <tr>\n",
       "      <th>2385</th>\n",
       "      <td>2017 EMRA Antibiotic Guide</td>\n",
       "      <td>MEDICAL</td>\n",
       "      <td>4.4</td>\n",
       "      <td>12</td>\n",
       "      <td>3.8M</td>\n",
       "      <td>1000</td>\n",
       "      <td>Paid</td>\n",
       "      <td>16.99</td>\n",
       "      <td>Everyone</td>\n",
       "      <td>Medical</td>\n",
       "      <td>January 27, 2017</td>\n",
       "      <td>1.0.5</td>\n",
       "      <td>4.0.3 and up</td>\n",
       "      <td>3.8</td>\n",
       "      <td>10+</td>\n",
       "    </tr>\n",
       "    <tr>\n",
       "      <th>...</th>\n",
       "      <td>...</td>\n",
       "      <td>...</td>\n",
       "      <td>...</td>\n",
       "      <td>...</td>\n",
       "      <td>...</td>\n",
       "      <td>...</td>\n",
       "      <td>...</td>\n",
       "      <td>...</td>\n",
       "      <td>...</td>\n",
       "      <td>...</td>\n",
       "      <td>...</td>\n",
       "      <td>...</td>\n",
       "      <td>...</td>\n",
       "      <td>...</td>\n",
       "      <td>...</td>\n",
       "    </tr>\n",
       "    <tr>\n",
       "      <th>3202</th>\n",
       "      <td>trivago: Hotels &amp; Travel</td>\n",
       "      <td>TRAVEL_AND_LOCAL</td>\n",
       "      <td>4.2</td>\n",
       "      <td>219848</td>\n",
       "      <td>Varies with device</td>\n",
       "      <td>50000000</td>\n",
       "      <td>Free</td>\n",
       "      <td>0.00</td>\n",
       "      <td>Everyone</td>\n",
       "      <td>Travel &amp; Local</td>\n",
       "      <td>August 2, 2018</td>\n",
       "      <td>Varies with device</td>\n",
       "      <td>Varies with device</td>\n",
       "      <td>NaN</td>\n",
       "      <td>10M+</td>\n",
       "    </tr>\n",
       "    <tr>\n",
       "      <th>3118</th>\n",
       "      <td>trivago: Hotels &amp; Travel</td>\n",
       "      <td>TRAVEL_AND_LOCAL</td>\n",
       "      <td>4.2</td>\n",
       "      <td>219848</td>\n",
       "      <td>Varies with device</td>\n",
       "      <td>50000000</td>\n",
       "      <td>Free</td>\n",
       "      <td>0.00</td>\n",
       "      <td>Everyone</td>\n",
       "      <td>Travel &amp; Local</td>\n",
       "      <td>August 2, 2018</td>\n",
       "      <td>Varies with device</td>\n",
       "      <td>Varies with device</td>\n",
       "      <td>NaN</td>\n",
       "      <td>10M+</td>\n",
       "    </tr>\n",
       "    <tr>\n",
       "      <th>3103</th>\n",
       "      <td>trivago: Hotels &amp; Travel</td>\n",
       "      <td>TRAVEL_AND_LOCAL</td>\n",
       "      <td>4.2</td>\n",
       "      <td>219848</td>\n",
       "      <td>Varies with device</td>\n",
       "      <td>50000000</td>\n",
       "      <td>Free</td>\n",
       "      <td>0.00</td>\n",
       "      <td>Everyone</td>\n",
       "      <td>Travel &amp; Local</td>\n",
       "      <td>August 2, 2018</td>\n",
       "      <td>Varies with device</td>\n",
       "      <td>Varies with device</td>\n",
       "      <td>NaN</td>\n",
       "      <td>10M+</td>\n",
       "    </tr>\n",
       "    <tr>\n",
       "      <th>8291</th>\n",
       "      <td>wetter.com - Weather and Radar</td>\n",
       "      <td>WEATHER</td>\n",
       "      <td>4.2</td>\n",
       "      <td>189310</td>\n",
       "      <td>38M</td>\n",
       "      <td>10000000</td>\n",
       "      <td>Free</td>\n",
       "      <td>0.00</td>\n",
       "      <td>Everyone</td>\n",
       "      <td>Weather</td>\n",
       "      <td>August 6, 2018</td>\n",
       "      <td>Varies with device</td>\n",
       "      <td>Varies with device</td>\n",
       "      <td>38.0</td>\n",
       "      <td>1M+</td>\n",
       "    </tr>\n",
       "    <tr>\n",
       "      <th>3652</th>\n",
       "      <td>wetter.com - Weather and Radar</td>\n",
       "      <td>WEATHER</td>\n",
       "      <td>4.2</td>\n",
       "      <td>189313</td>\n",
       "      <td>38M</td>\n",
       "      <td>10000000</td>\n",
       "      <td>Free</td>\n",
       "      <td>0.00</td>\n",
       "      <td>Everyone</td>\n",
       "      <td>Weather</td>\n",
       "      <td>August 6, 2018</td>\n",
       "      <td>Varies with device</td>\n",
       "      <td>Varies with device</td>\n",
       "      <td>38.0</td>\n",
       "      <td>1M+</td>\n",
       "    </tr>\n",
       "  </tbody>\n",
       "</table>\n",
       "<p>1979 rows × 15 columns</p>\n",
       "</div>"
      ],
      "text/plain": [
       "                                 App            Category  Rating  Reviews  \\\n",
       "1393           10 Best Foods for You  HEALTH_AND_FITNESS     4.0     2490   \n",
       "1407           10 Best Foods for You  HEALTH_AND_FITNESS     4.0     2490   \n",
       "2543      1800 Contacts - Lens Store             MEDICAL     4.7    23160   \n",
       "2322      1800 Contacts - Lens Store             MEDICAL     4.7    23160   \n",
       "2385      2017 EMRA Antibiotic Guide             MEDICAL     4.4       12   \n",
       "...                              ...                 ...     ...      ...   \n",
       "3202        trivago: Hotels & Travel    TRAVEL_AND_LOCAL     4.2   219848   \n",
       "3118        trivago: Hotels & Travel    TRAVEL_AND_LOCAL     4.2   219848   \n",
       "3103        trivago: Hotels & Travel    TRAVEL_AND_LOCAL     4.2   219848   \n",
       "8291  wetter.com - Weather and Radar             WEATHER     4.2   189310   \n",
       "3652  wetter.com - Weather and Radar             WEATHER     4.2   189313   \n",
       "\n",
       "                    Size  Installs  Type  Price Content Rating  \\\n",
       "1393                3.8M    500000  Free   0.00   Everyone 10+   \n",
       "1407                3.8M    500000  Free   0.00   Everyone 10+   \n",
       "2543                 26M   1000000  Free   0.00       Everyone   \n",
       "2322                 26M   1000000  Free   0.00       Everyone   \n",
       "2385                3.8M      1000  Paid  16.99       Everyone   \n",
       "...                  ...       ...   ...    ...            ...   \n",
       "3202  Varies with device  50000000  Free   0.00       Everyone   \n",
       "3118  Varies with device  50000000  Free   0.00       Everyone   \n",
       "3103  Varies with device  50000000  Free   0.00       Everyone   \n",
       "8291                 38M  10000000  Free   0.00       Everyone   \n",
       "3652                 38M  10000000  Free   0.00       Everyone   \n",
       "\n",
       "                Genres       Last Updated         Current Ver  \\\n",
       "1393  Health & Fitness  February 17, 2017                 1.9   \n",
       "1407  Health & Fitness  February 17, 2017                 1.9   \n",
       "2543           Medical      July 27, 2018               7.4.1   \n",
       "2322           Medical      July 27, 2018               7.4.1   \n",
       "2385           Medical   January 27, 2017               1.0.5   \n",
       "...                ...                ...                 ...   \n",
       "3202    Travel & Local     August 2, 2018  Varies with device   \n",
       "3118    Travel & Local     August 2, 2018  Varies with device   \n",
       "3103    Travel & Local     August 2, 2018  Varies with device   \n",
       "8291           Weather     August 6, 2018  Varies with device   \n",
       "3652           Weather     August 6, 2018  Varies with device   \n",
       "\n",
       "             Android Ver  Size_MB Install_Category  \n",
       "1393        2.3.3 and up      3.8            100K+  \n",
       "1407        2.3.3 and up      3.8            100K+  \n",
       "2543          5.0 and up     26.0            100K+  \n",
       "2322          5.0 and up     26.0            100K+  \n",
       "2385        4.0.3 and up      3.8              10+  \n",
       "...                  ...      ...              ...  \n",
       "3202  Varies with device      NaN             10M+  \n",
       "3118  Varies with device      NaN             10M+  \n",
       "3103  Varies with device      NaN             10M+  \n",
       "8291  Varies with device     38.0              1M+  \n",
       "3652  Varies with device     38.0              1M+  \n",
       "\n",
       "[1979 rows x 15 columns]"
      ]
     },
     "execution_count": 46,
     "metadata": {},
     "output_type": "execute_result"
    }
   ],
   "source": [
    "# find duplicates and sort them based on 'App' column\n",
    "df[df['App'].duplicated(keep=False)].sort_values(by='App')"
   ]
  },
  {
   "cell_type": "code",
   "execution_count": 47,
   "metadata": {},
   "outputs": [
    {
     "data": {
      "text/plain": [
       "(10829, 15)"
      ]
     },
     "execution_count": 47,
     "metadata": {},
     "output_type": "execute_result"
    }
   ],
   "source": [
    "# Shape before\n",
    "df.shape "
   ]
  },
  {
   "cell_type": "code",
   "execution_count": 48,
   "metadata": {},
   "outputs": [],
   "source": [
    "# Remove Duplicates\n",
    "df.drop_duplicates(inplace=True)"
   ]
  },
  {
   "cell_type": "code",
   "execution_count": 49,
   "metadata": {},
   "outputs": [
    {
     "data": {
      "text/plain": [
       "(10346, 15)"
      ]
     },
     "execution_count": 49,
     "metadata": {},
     "output_type": "execute_result"
    }
   ],
   "source": [
    "# Shape after\n",
    "df.shape"
   ]
  },
  {
   "cell_type": "markdown",
   "metadata": {},
   "source": [
    "Now, we've removed 483 duplicated rows from df."
   ]
  },
  {
   "cell_type": "markdown",
   "metadata": {},
   "source": [
    "## Impute `Ratings` Missing Values"
   ]
  },
  {
   "cell_type": "code",
   "execution_count": 50,
   "metadata": {},
   "outputs": [
    {
     "name": "stderr",
     "output_type": "stream",
     "text": [
      "C:\\Users\\Faizan\\AppData\\Local\\Temp\\ipykernel_9892\\516342710.py:2: FutureWarning: The default of observed=False is deprecated and will be changed to True in a future version of pandas. Pass observed=False to retain current behavior or observed=True to adopt the future default and silence this warning.\n",
      "  df.groupby('Install_Category')['Rating'].describe()\n"
     ]
    },
    {
     "data": {
      "text/html": [
       "<div>\n",
       "<style scoped>\n",
       "    .dataframe tbody tr th:only-of-type {\n",
       "        vertical-align: middle;\n",
       "    }\n",
       "\n",
       "    .dataframe tbody tr th {\n",
       "        vertical-align: top;\n",
       "    }\n",
       "\n",
       "    .dataframe thead th {\n",
       "        text-align: right;\n",
       "    }\n",
       "</style>\n",
       "<table border=\"1\" class=\"dataframe\">\n",
       "  <thead>\n",
       "    <tr style=\"text-align: right;\">\n",
       "      <th></th>\n",
       "      <th>count</th>\n",
       "      <th>mean</th>\n",
       "      <th>std</th>\n",
       "      <th>min</th>\n",
       "      <th>25%</th>\n",
       "      <th>50%</th>\n",
       "      <th>75%</th>\n",
       "      <th>max</th>\n",
       "    </tr>\n",
       "    <tr>\n",
       "      <th>Install_Category</th>\n",
       "      <th></th>\n",
       "      <th></th>\n",
       "      <th></th>\n",
       "      <th></th>\n",
       "      <th></th>\n",
       "      <th></th>\n",
       "      <th></th>\n",
       "      <th></th>\n",
       "    </tr>\n",
       "  </thead>\n",
       "  <tbody>\n",
       "    <tr>\n",
       "      <th>NA</th>\n",
       "      <td>0.0</td>\n",
       "      <td>NaN</td>\n",
       "      <td>NaN</td>\n",
       "      <td>NaN</td>\n",
       "      <td>NaN</td>\n",
       "      <td>NaN</td>\n",
       "      <td>NaN</td>\n",
       "      <td>NaN</td>\n",
       "    </tr>\n",
       "    <tr>\n",
       "      <th>0+</th>\n",
       "      <td>81.0</td>\n",
       "      <td>4.637037</td>\n",
       "      <td>0.845199</td>\n",
       "      <td>1.0</td>\n",
       "      <td>4.8</td>\n",
       "      <td>5.0</td>\n",
       "      <td>5.0</td>\n",
       "      <td>5.0</td>\n",
       "    </tr>\n",
       "    <tr>\n",
       "      <th>10+</th>\n",
       "      <td>1255.0</td>\n",
       "      <td>4.170040</td>\n",
       "      <td>0.829420</td>\n",
       "      <td>1.0</td>\n",
       "      <td>3.8</td>\n",
       "      <td>4.4</td>\n",
       "      <td>4.8</td>\n",
       "      <td>5.0</td>\n",
       "    </tr>\n",
       "    <tr>\n",
       "      <th>1K+</th>\n",
       "      <td>1413.0</td>\n",
       "      <td>4.031352</td>\n",
       "      <td>0.605581</td>\n",
       "      <td>1.4</td>\n",
       "      <td>3.8</td>\n",
       "      <td>4.2</td>\n",
       "      <td>4.5</td>\n",
       "      <td>5.0</td>\n",
       "    </tr>\n",
       "    <tr>\n",
       "      <th>10K+</th>\n",
       "      <td>1571.0</td>\n",
       "      <td>4.094653</td>\n",
       "      <td>0.504221</td>\n",
       "      <td>1.6</td>\n",
       "      <td>3.9</td>\n",
       "      <td>4.2</td>\n",
       "      <td>4.5</td>\n",
       "      <td>4.9</td>\n",
       "    </tr>\n",
       "    <tr>\n",
       "      <th>100K+</th>\n",
       "      <td>2000.0</td>\n",
       "      <td>4.207100</td>\n",
       "      <td>0.378591</td>\n",
       "      <td>1.8</td>\n",
       "      <td>4.0</td>\n",
       "      <td>4.3</td>\n",
       "      <td>4.5</td>\n",
       "      <td>4.9</td>\n",
       "    </tr>\n",
       "    <tr>\n",
       "      <th>1M+</th>\n",
       "      <td>1815.0</td>\n",
       "      <td>4.285675</td>\n",
       "      <td>0.301071</td>\n",
       "      <td>2.0</td>\n",
       "      <td>4.1</td>\n",
       "      <td>4.3</td>\n",
       "      <td>4.5</td>\n",
       "      <td>4.9</td>\n",
       "    </tr>\n",
       "    <tr>\n",
       "      <th>10M+</th>\n",
       "      <td>751.0</td>\n",
       "      <td>4.372170</td>\n",
       "      <td>0.195374</td>\n",
       "      <td>3.1</td>\n",
       "      <td>4.3</td>\n",
       "      <td>4.4</td>\n",
       "      <td>4.5</td>\n",
       "      <td>4.8</td>\n",
       "    </tr>\n",
       "  </tbody>\n",
       "</table>\n",
       "</div>"
      ],
      "text/plain": [
       "                   count      mean       std  min  25%  50%  75%  max\n",
       "Install_Category                                                     \n",
       "NA                   0.0       NaN       NaN  NaN  NaN  NaN  NaN  NaN\n",
       "0+                  81.0  4.637037  0.845199  1.0  4.8  5.0  5.0  5.0\n",
       "10+               1255.0  4.170040  0.829420  1.0  3.8  4.4  4.8  5.0\n",
       "1K+               1413.0  4.031352  0.605581  1.4  3.8  4.2  4.5  5.0\n",
       "10K+              1571.0  4.094653  0.504221  1.6  3.9  4.2  4.5  4.9\n",
       "100K+             2000.0  4.207100  0.378591  1.8  4.0  4.3  4.5  4.9\n",
       "1M+               1815.0  4.285675  0.301071  2.0  4.1  4.3  4.5  4.9\n",
       "10M+               751.0  4.372170  0.195374  3.1  4.3  4.4  4.5  4.8"
      ]
     },
     "execution_count": 50,
     "metadata": {},
     "output_type": "execute_result"
    }
   ],
   "source": [
    "# group rating column based on Install_Category\n",
    "df.groupby('Install_Category')['Rating'].describe()"
   ]
  },
  {
   "cell_type": "code",
   "execution_count": 51,
   "metadata": {},
   "outputs": [
    {
     "name": "stderr",
     "output_type": "stream",
     "text": [
      "C:\\Users\\Faizan\\AppData\\Local\\Temp\\ipykernel_9892\\2602887923.py:2: FutureWarning: The default of observed=False is deprecated and will be changed to True in a future version of pandas. Pass observed=False to retain current behavior or observed=True to adopt the future default and silence this warning.\n",
      "  df['Rating'] = df.groupby('Install_Category')['Rating'].transform(lambda x: x.fillna(x.mean()))\n"
     ]
    }
   ],
   "source": [
    "# Fill rating column with mean value of each Install_Category group\n",
    "df['Rating'] = df.groupby('Install_Category')['Rating'].transform(lambda x: x.fillna(x.mean()))"
   ]
  },
  {
   "cell_type": "code",
   "execution_count": 54,
   "metadata": {},
   "outputs": [
    {
     "data": {
      "text/plain": [
       "14"
      ]
     },
     "execution_count": 54,
     "metadata": {},
     "output_type": "execute_result"
    }
   ],
   "source": [
    "df['Rating'].isnull().sum()"
   ]
  },
  {
   "cell_type": "code",
   "execution_count": 55,
   "metadata": {},
   "outputs": [],
   "source": [
    "# Remove the rows that contains missing values in Rating Column\n",
    "df.dropna(subset=['Rating'], inplace=True)"
   ]
  },
  {
   "cell_type": "code",
   "execution_count": 56,
   "metadata": {},
   "outputs": [
    {
     "data": {
      "text/plain": [
       "0"
      ]
     },
     "execution_count": 56,
     "metadata": {},
     "output_type": "execute_result"
    }
   ],
   "source": [
    "df['Rating'].isnull().sum()"
   ]
  },
  {
   "cell_type": "code",
   "execution_count": 58,
   "metadata": {},
   "outputs": [
    {
     "data": {
      "text/plain": [
       "Type                   0\n",
       "Size_MB             1525\n",
       "Size                   0\n",
       "Reviews                0\n",
       "Rating                 0\n",
       "Price                  0\n",
       "Last Updated           0\n",
       "Installs               0\n",
       "Install_Category       0\n",
       "Genres                 0\n",
       "Current Ver            0\n",
       "Content Rating         0\n",
       "Category               0\n",
       "App                    0\n",
       "Android Ver            0\n",
       "dtype: int64"
      ]
     },
     "execution_count": 58,
     "metadata": {},
     "output_type": "execute_result"
    }
   ],
   "source": [
    "# Check missing values again\n",
    "df.isnull().sum().sort_index(ascending=False)"
   ]
  },
  {
   "cell_type": "code",
   "execution_count": 60,
   "metadata": {},
   "outputs": [
    {
     "data": {
      "text/plain": [
       "Index(['App', 'Category', 'Rating', 'Reviews', 'Size', 'Installs', 'Type',\n",
       "       'Price', 'Content Rating', 'Genres', 'Last Updated', 'Current Ver',\n",
       "       'Android Ver', 'Size_MB', 'Install_Category'],\n",
       "      dtype='object')"
      ]
     },
     "execution_count": 60,
     "metadata": {},
     "output_type": "execute_result"
    }
   ],
   "source": [
    "df.columns"
   ]
  },
  {
   "cell_type": "markdown",
   "metadata": {},
   "source": [
    "# Insights from Data"
   ]
  },
  {
   "cell_type": "markdown",
   "metadata": {},
   "source": [
    "### Questions\n",
    "1. Which category has highest number of Apps?\n",
    "2. Which category has highest number of installs?\n",
    "3. Which category has highest number of reviews?\n",
    "4. Which category has highest average rating?\n",
    "5. Which category has highest average size?\n",
    "6. Which category has highest average price?\n",
    "7. Which Type is most common?\n",
    "8. Which Content Rating is most common?\n",
    "9. Which Android Version is most common?\n",
    "10. Which Android Version has highest average rating?\n",
    "11. Which Android Version has highest average size?\n",
    "12. Which Android Version has highest average price?\n",
    "13. Which Android Version has highest number of installs?\n",
    "14. What average size has highest number of installs?\n",
    "15. What average price has highest number of installs?"
   ]
  },
  {
   "cell_type": "code",
   "execution_count": 69,
   "metadata": {},
   "outputs": [
    {
     "name": "stdout",
     "output_type": "stream",
     "text": [
      "1. Which category has highest number of Apps?\n",
      "\n",
      "\n",
      "Category\n",
      "FAMILY             1937\n",
      "GAME               1121\n",
      "TOOLS               841\n",
      "BUSINESS            426\n",
      "MEDICAL             407\n",
      "PRODUCTIVITY        406\n",
      "PERSONALIZATION     385\n",
      "LIFESTYLE           372\n",
      "COMMUNICATION       366\n",
      "FINANCE             358\n",
      "Name: count, dtype: int64\n",
      "\n",
      "\n",
      "2. Which category has highest number of installs?\n",
      "\n",
      "\n",
      "Category\n",
      "GAME                  31544024415\n",
      "COMMUNICATION         24152276251\n",
      "SOCIAL                12513867902\n",
      "PRODUCTIVITY          12463091369\n",
      "TOOLS                 11452271905\n",
      "FAMILY                10041632405\n",
      "PHOTOGRAPHY            9721247655\n",
      "TRAVEL_AND_LOCAL       6361887146\n",
      "VIDEO_PLAYERS          6222002720\n",
      "NEWS_AND_MAGAZINES     5393217760\n",
      "Name: Installs, dtype: int64\n",
      "\n",
      "\n",
      "3. Which category has highest number of reviews?\n",
      "\n",
      "\n",
      "Category\n",
      "GAME               1415536650\n",
      "COMMUNICATION       601273552\n",
      "SOCIAL              533576829\n",
      "FAMILY              396771746\n",
      "TOOLS               273181033\n",
      "PHOTOGRAPHY         204297410\n",
      "VIDEO_PLAYERS       110380188\n",
      "PRODUCTIVITY        102554498\n",
      "SHOPPING             94931162\n",
      "PERSONALIZATION      75192744\n",
      "Name: Reviews, dtype: int64\n",
      "\n",
      "\n",
      "4. Which category has highest average rating?\n",
      "\n",
      "\n",
      "Category\n",
      "EVENTS                 4.394011\n",
      "EDUCATION              4.373805\n",
      "ART_AND_DESIGN         4.367079\n",
      "BOOKS_AND_REFERENCE    4.358322\n",
      "PERSONALIZATION        4.333188\n",
      "GAME                   4.281902\n",
      "HEALTH_AND_FITNESS     4.273797\n",
      "SOCIAL                 4.260338\n",
      "PARENTING              4.259445\n",
      "SHOPPING               4.253291\n",
      "Name: Rating, dtype: float64\n",
      "\n",
      "\n",
      "5. Which category has highest average size?\n",
      "\n",
      "\n",
      "Category\n",
      "GAME                  44.126816\n",
      "FAMILY                27.973422\n",
      "TRAVEL_AND_LOCAL      24.339083\n",
      "SPORTS                24.180992\n",
      "ENTERTAINMENT         22.638806\n",
      "PARENTING             22.512963\n",
      "FOOD_AND_DRINK        22.056122\n",
      "HEALTH_AND_FITNESS    21.642819\n",
      "EDUCATION             20.076632\n",
      "AUTO_AND_VEHICLES     20.036807\n",
      "Name: Size_MB, dtype: float64\n",
      "\n",
      "\n",
      "6. Which category has highest average price?\n",
      "\n",
      "\n",
      "Category\n",
      "FINANCE                6.912989\n",
      "LIFESTYLE              5.271183\n",
      "MEDICAL                2.016437\n",
      "EVENTS                 1.718594\n",
      "FAMILY                 1.246696\n",
      "BOOKS_AND_REFERENCE    0.523013\n",
      "BUSINESS               0.411479\n",
      "WEATHER                0.395366\n",
      "PERSONALIZATION        0.385688\n",
      "PHOTOGRAPHY            0.379596\n",
      "Name: Price, dtype: float64\n",
      "\n",
      "\n",
      "7. Which Type is most common?\n",
      "\n",
      "\n",
      "Type\n",
      "Free    9580\n",
      "Paid     752\n",
      "Name: count, dtype: int64\n",
      "\n",
      "\n",
      "8. Which Content Rating is most common?\n",
      "\n",
      "\n",
      "Content Rating\n",
      "Everyone           8360\n",
      "Teen               1144\n",
      "Mature 17+          447\n",
      "Everyone 10+        376\n",
      "Adults only 18+       3\n",
      "Unrated               2\n",
      "Name: count, dtype: int64\n",
      "\n",
      "\n",
      "9. Which Android Version is most common?\n",
      "\n",
      "\n",
      "Android Ver\n",
      "4.1 and up            2374\n",
      "4.0.3 and up          1450\n",
      "4.0 and up            1333\n",
      "Varies with device    1220\n",
      "4.4 and up             892\n",
      "2.3 and up             642\n",
      "5.0 and up             546\n",
      "4.2 and up             384\n",
      "2.3.3 and up           279\n",
      "2.2 and up             239\n",
      "4.3 and up             235\n",
      "3.0 and up             234\n",
      "2.1 and up             133\n",
      "1.6 and up             115\n",
      "6.0 and up              58\n",
      "7.0 and up              42\n",
      "3.2 and up              36\n",
      "2.0 and up              31\n",
      "5.1 and up              22\n",
      "1.5 and up              19\n",
      "4.4W and up             11\n",
      "3.1 and up              10\n",
      "2.0.1 and up             7\n",
      "8.0 and up               6\n",
      "7.1 and up               3\n",
      "4.0.3 - 7.1.1            2\n",
      "5.0 - 8.0                2\n",
      "1.0 and up               2\n",
      "7.0 - 7.1.1              1\n",
      "4.1 - 7.1.1              1\n",
      "5.0 - 6.0                1\n",
      "2.2 - 7.1.1              1\n",
      "5.0 - 7.1.1              1\n",
      "Name: count, dtype: int64\n",
      "\n",
      "\n",
      "10. Which Android Version has highest average rating?\n",
      "\n",
      "\n",
      "Android Ver\n",
      "5.0 - 7.1.1           4.637037\n",
      "7.0 - 7.1.1           4.500000\n",
      "5.0 - 8.0             4.500000\n",
      "5.0 - 6.0             4.500000\n",
      "4.4W and up           4.341294\n",
      "5.1 and up            4.339948\n",
      "2.0 and up            4.335574\n",
      "2.0.1 and up          4.328571\n",
      "Varies with device    4.271076\n",
      "4.1 and up            4.261352\n",
      "Name: Rating, dtype: float64\n",
      "\n",
      "\n",
      "11. Which Android Version has highest average size?\n",
      "\n",
      "\n",
      "Android Ver\n",
      "7.1 and up      32.004150\n",
      "4.4 and up      26.086799\n",
      "4.1 and up      25.871584\n",
      "7.0 and up      24.314131\n",
      "5.1 and up      24.062174\n",
      "5.0 and up      23.863066\n",
      "5.0 - 8.0       23.800000\n",
      "6.0 and up      22.301825\n",
      "4.3 and up      22.245446\n",
      "2.0.1 and up    22.219950\n",
      "Name: Size_MB, dtype: float64\n",
      "\n",
      "\n",
      "12. Which Android Version has highest average price?\n",
      "\n",
      "\n",
      "Android Ver\n",
      "7.0 and up      10.056429\n",
      "1.6 and up       4.992435\n",
      "4.2 and up       2.376875\n",
      "4.4W and up      1.998182\n",
      "2.0.1 and up     1.921429\n",
      "4.4 and up       1.508520\n",
      "4.3 and up       1.387787\n",
      "4.0 and up       1.012911\n",
      "1.5 and up       0.975263\n",
      "4.0.3 and up     0.955586\n",
      "Name: Price, dtype: float64\n",
      "\n",
      "\n",
      "13. Which Android Version has highest number of installs?\n",
      "\n",
      "\n",
      "Android Ver\n",
      "Varies with device    80049818782\n",
      "4.1 and up            27798248789\n",
      "4.0 and up            11324666206\n",
      "4.4 and up             9855379498\n",
      "4.0.3 and up           7275196683\n",
      "2.3 and up             2631607409\n",
      "5.0 and up             2058006343\n",
      "4.2 and up             1975507654\n",
      "4.3 and up             1016395721\n",
      "2.3.3 and up            874802515\n",
      "Name: Installs, dtype: int64\n",
      "\n",
      "\n",
      "14. What average size has highest number of installs?\n",
      "\n",
      "\n",
      "Size_MB\n",
      "76.0    5189110150\n",
      "13.0    3621251835\n",
      "74.0    2827110600\n",
      "24.0    2669222460\n",
      "62.0    2567551810\n",
      "11.0    1772562201\n",
      "17.0    1629005856\n",
      "61.0    1534722510\n",
      "40.0    1337317270\n",
      "67.0    1233225050\n",
      "Name: Installs, dtype: int64\n",
      "\n",
      "\n",
      "15. What average price has highest number of installs?\n",
      "\n",
      "\n",
      "Price\n",
      "0.00    146561162546\n",
      "6.99        21133100\n",
      "0.99        20337363\n",
      "2.99        10290022\n",
      "1.99         4001131\n",
      "4.99         3434680\n",
      "5.99         2774912\n",
      "3.99         2169251\n",
      "2.49         1738831\n",
      "9.99          484600\n",
      "Name: Installs, dtype: int64\n"
     ]
    }
   ],
   "source": [
    "print(\"1. Which category has highest number of Apps?\");print('\\n')\n",
    "print(df['Category'].value_counts().head(10))\n",
    "\n",
    "print('\\n')\n",
    "\n",
    "print(\"2. Which category has highest number of installs?\");print('\\n')\n",
    "print(df.groupby('Category')['Installs'].sum().sort_values(ascending=False).head(10))\n",
    "\n",
    "print('\\n')\n",
    "\n",
    "print(\"3. Which category has highest number of reviews?\");print('\\n')\n",
    "print(df.groupby('Category')['Reviews'].sum().sort_values(ascending=False).head(10))\n",
    "\n",
    "print('\\n')\n",
    "\n",
    "print(\"4. Which category has highest average rating?\");print('\\n')\n",
    "print(df.groupby('Category')['Rating'].mean().sort_values(ascending=False).head(10))\n",
    "\n",
    "print('\\n')\n",
    "\n",
    "print(\"5. Which category has highest average size?\");print('\\n')\n",
    "print(df.groupby('Category')['Size_MB'].mean().sort_values(ascending=False).head(10))\n",
    "\n",
    "print('\\n')\n",
    "\n",
    "print(\"6. Which category has highest average price?\");print('\\n')\n",
    "print(df.groupby('Category')['Price'].mean().sort_values(ascending=False).head(10))\n",
    "\n",
    "print('\\n')\n",
    "\n",
    "print(\"7. Which Type is most common?\");print('\\n')\n",
    "print(df['Type'].value_counts())\n",
    "\n",
    "print('\\n')\n",
    "\n",
    "print(\"8. Which Content Rating is most common?\");print('\\n')\n",
    "print(df['Content Rating'].value_counts())\n",
    "\n",
    "print('\\n')\n",
    "\n",
    "print(\"9. Which Android Version is most common?\");print('\\n')\n",
    "print(df['Android Ver'].value_counts())\n",
    "\n",
    "print('\\n')\n",
    "\n",
    "print(\"10. Which Android Version has highest average rating?\");print('\\n')\n",
    "print(df.groupby('Android Ver')['Rating'].mean().sort_values(ascending=False).head(10))\n",
    "\n",
    "print('\\n')\n",
    "\n",
    "print(\"11. Which Android Version has highest average size?\");print('\\n')\n",
    "print(df.groupby('Android Ver')['Size_MB'].mean().sort_values(ascending=False).head(10))\n",
    "\n",
    "print('\\n')\n",
    "\n",
    "print(\"12. Which Android Version has highest average price?\");print('\\n')\n",
    "print(df.groupby('Android Ver')['Price'].mean().sort_values(ascending=False).head(10))\n",
    "\n",
    "print('\\n')\n",
    "\n",
    "print(\"13. Which Android Version has highest number of installs?\");print('\\n')\n",
    "print(df.groupby('Android Ver')['Installs'].sum().sort_values(ascending=False).head(10))\n",
    "\n",
    "print('\\n')\n",
    "\n",
    "print(\"14. What average size has highest number of installs?\");print('\\n')\n",
    "print(df.groupby('Size_MB')['Installs'].sum().sort_values(ascending=False).head(10))\n",
    "\n",
    "print('\\n')\n",
    "\n",
    "print(\"15. What average price has highest number of installs?\");print('\\n')\n",
    "print(df.groupby('Price')['Installs'].sum().sort_values(ascending=False).head(10))"
   ]
  },
  {
   "cell_type": "code",
   "execution_count": null,
   "metadata": {},
   "outputs": [],
   "source": []
  }
 ],
 "metadata": {
  "kernelspec": {
   "display_name": "googleplaystore_env",
   "language": "python",
   "name": "python3"
  },
  "language_info": {
   "codemirror_mode": {
    "name": "ipython",
    "version": 3
   },
   "file_extension": ".py",
   "mimetype": "text/x-python",
   "name": "python",
   "nbconvert_exporter": "python",
   "pygments_lexer": "ipython3",
   "version": "3.11.0"
  }
 },
 "nbformat": 4,
 "nbformat_minor": 2
}
